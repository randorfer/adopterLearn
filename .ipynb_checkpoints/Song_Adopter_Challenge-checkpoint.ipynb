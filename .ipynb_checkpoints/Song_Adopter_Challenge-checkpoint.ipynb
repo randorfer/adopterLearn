{
 "cells": [
  {
   "cell_type": "code",
   "execution_count": null,
   "metadata": {
    "collapsed": false
   },
   "outputs": [
    {
     "name": "stdout",
     "output_type": "stream",
     "text": [
      "Populating the interactive namespace from numpy and matplotlib\n"
     ]
    }
   ],
   "source": [
    "% pylab inline\n",
    "import pandas as pd\n",
    "import numpy as np\n",
    "\n",
    "import random\n",
    "random.seed(42)\n",
    "\n",
    "train = pd.read_csv(\"data/train.csv\")\n",
    "score = pd.read_csv(\"data/score.csv\")\n",
    "X_score = score.values[:,2:]\n",
    "user_id = score.values[:,1]\n",
    "X = train.values[:,3:]\n",
    "y = train.values[:,2]"
   ]
  },
  {
   "cell_type": "code",
   "execution_count": null,
   "metadata": {
    "collapsed": false,
    "scrolled": true
   },
   "outputs": [],
   "source": [
    "score.head(1)"
   ]
  },
  {
   "cell_type": "code",
   "execution_count": null,
   "metadata": {
    "collapsed": false
   },
   "outputs": [],
   "source": [
    "X_score"
   ]
  },
  {
   "cell_type": "code",
   "execution_count": null,
   "metadata": {
    "collapsed": false
   },
   "outputs": [],
   "source": [
    "score.describe()"
   ]
  },
  {
   "cell_type": "code",
   "execution_count": null,
   "metadata": {
    "collapsed": false
   },
   "outputs": [],
   "source": [
    "train.head(1)"
   ]
  },
  {
   "cell_type": "code",
   "execution_count": null,
   "metadata": {
    "collapsed": false,
    "scrolled": true
   },
   "outputs": [],
   "source": [
    "train.describe()"
   ]
  },
  {
   "cell_type": "code",
   "execution_count": null,
   "metadata": {
    "collapsed": false
   },
   "outputs": [],
   "source": [
    "train.adopter.hist()"
   ]
  },
  {
   "cell_type": "code",
   "execution_count": null,
   "metadata": {
    "collapsed": false
   },
   "outputs": [],
   "source": [
    "train.age.hist(bins=30)\n",
    "plt.title(\"Distribution of users' ages\")\n",
    "plt.ylabel('count of users')\n",
    "plt.xlabel('age')"
   ]
  },
  {
   "cell_type": "code",
   "execution_count": null,
   "metadata": {
    "collapsed": false,
    "scrolled": true
   },
   "outputs": [],
   "source": [
    "train.friend_count.hist(bins=30)"
   ]
  },
  {
   "cell_type": "code",
   "execution_count": null,
   "metadata": {
    "collapsed": false
   },
   "outputs": [],
   "source": [
    "# Split Data\n",
    "from sklearn.model_selection import train_test_split\n",
    "\n",
    "X_train, X_test, y_train, y_test = train_test_split(\n",
    "    X, y\n",
    ")"
   ]
  },
  {
   "cell_type": "code",
   "execution_count": null,
   "metadata": {
    "collapsed": false
   },
   "outputs": [],
   "source": [
    "from imblearn.under_sampling import RandomUnderSampler\n",
    "\n",
    "s = RandomUnderSampler(.05)\n",
    "X_sampled, y_sampled = s.fit_sample(X, y)\n",
    "plt.hist(y_sampled)"
   ]
  },
  {
   "cell_type": "code",
   "execution_count": null,
   "metadata": {
    "collapsed": false,
    "scrolled": true
   },
   "outputs": [],
   "source": [
    "from sklearn.preprocessing import RobustScaler\n",
    "from scipy import stats\n",
    "# Scale data\n",
    "robust_scaler = RobustScaler()\n",
    "X_train = robust_scaler.fit_transform(X_train)\n",
    "data = pd.DataFrame(data=X_train)\n",
    "data.columns = train.columns[3:]\n",
    "data.describe()"
   ]
  },
  {
   "cell_type": "code",
   "execution_count": null,
   "metadata": {
    "collapsed": false
   },
   "outputs": [],
   "source": [
    "# Scale data\n",
    "robust_scaler = RobustScaler()\n",
    "X_feature = robust_scaler.fit_transform(X_sampled)\n",
    "data = pd.DataFrame(data=X_feature)\n",
    "data.columns = train.columns[3:]\n",
    "data.describe()"
   ]
  },
  {
   "cell_type": "code",
   "execution_count": null,
   "metadata": {
    "collapsed": false
   },
   "outputs": [],
   "source": [
    "from sklearn.metrics import roc_curve, auc, confusion_matrix, precision_recall_fscore_support, classification_report\n",
    "import csv"
   ]
  },
  {
   "cell_type": "code",
   "execution_count": null,
   "metadata": {
    "collapsed": false
   },
   "outputs": [],
   "source": [
    "from sklearn.ensemble import ExtraTreesClassifier\n",
    "\n",
    "forest = ExtraTreesClassifier(n_estimators=45, random_state=42)\n",
    "forest.fit(X_feature, y_sampled)\n",
    "importances = forest.feature_importances_\n",
    "std = np.std([tree.feature_importances_ for tree in forest.estimators_],\n",
    "             axis=0)\n",
    "indices = np.argsort(importances)[::-1]\n",
    "\n",
    "# Plot the feature importances of the forest\n",
    "plt.figure()\n",
    "plt.title(\"Feature importances\")\n",
    "plt.bar(range(X.shape[1]), importances[indices],\n",
    "       color=\"r\", yerr=std[indices], align=\"center\")\n",
    "plt.xticks(range(X.shape[1]), indices)\n",
    "plt.xlim([-1, X.shape[1]])\n",
    "plt.show()\n",
    "\n",
    "y_pred = forest.predict(X_test)\n",
    "precision, recall, fbeta_score, support = precision_recall_fscore_support(\n",
    "    y_true=y_test, y_pred=y_pred, labels=1, average='binary'\n",
    ")\n",
    "print(\"Precision:{0} Recall:{1}, FScore:{2}\").format(precision, recall, fbeta_score)\n",
    "print confusion_matrix(y_test,y_pred)"
   ]
  },
  {
   "cell_type": "code",
   "execution_count": null,
   "metadata": {
    "collapsed": false
   },
   "outputs": [],
   "source": [
    "arr = forest.feature_importances_\n",
    "top_features = arr.argsort()[-15:][::-1]\n",
    "train_top_features = map(lambda x: x+3, top_features)\n",
    "score_top_features = map(lambda x: x+2, top_features)\n",
    "\n",
    "print train_top_features\n",
    "print score_top_features\n",
    "\n",
    "X_score = score.values[:,score_top_features]"
   ]
  },
  {
   "cell_type": "code",
   "execution_count": null,
   "metadata": {
    "collapsed": false
   },
   "outputs": [],
   "source": [
    "data2 = pd.DataFrame(data=X_score)\n",
    "data2.columns = train.columns[train_top_features]\n",
    "data2.describe()"
   ]
  },
  {
   "cell_type": "code",
   "execution_count": null,
   "metadata": {
    "collapsed": false
   },
   "outputs": [],
   "source": [
    "from sklearn.ensemble import RandomForestClassifier\n",
    "\n",
    "model = RandomForestClassifier(criterion=\"gini\", max_features=\"log2\", n_estimators=45)\n",
    "model.fit(X_train[:,top_features], y_train)\n",
    "y_pred = model.predict(X_test[:,top_features])\n",
    "precision, recall, fbeta_score, support = precision_recall_fscore_support(\n",
    "    y_true=y_test, y_pred=y_pred, labels=1, average='binary'\n",
    ")\n",
    "print(\"Precision:{0} Recall:{1}, FScore:{2}\").format(precision, recall, fbeta_score)\n",
    "print confusion_matrix(y_test,y_pred)\n",
    "\n",
    "predictions = model.predict(X_score)\n",
    "file_name = \"{0}.csv\".format(\"random_forest\")\n",
    "with open(file_name, 'w') as csvfile:\n",
    "    csvfile.write(\"user_id,prediction(adopter)\\n\")\n",
    "    i=0\n",
    "    for prediction in predictions:\n",
    "        csvfile.write(\"%s,%d\\n\" % (user_id[i],prediction))\n",
    "        i += 1"
   ]
  },
  {
   "cell_type": "code",
   "execution_count": null,
   "metadata": {
    "collapsed": false
   },
   "outputs": [],
   "source": [
    "from sklearn.ensemble import ExtraTreesClassifier\n",
    "\n",
    "model = ExtraTreesClassifier(criterion=\"gini\", max_features=\"log2\", n_estimators=45)\n",
    "model.fit(X_train[:,top_features], y_train)\n",
    "y_pred = model.predict(X_test[:,top_features])\n",
    "precision, recall, fbeta_score, support = precision_recall_fscore_support(\n",
    "    y_true=y_test, y_pred=y_pred, labels=1, average='binary'\n",
    ")\n",
    "print(\"Precision:{0} Recall:{1}, FScore:{2}\").format(precision, recall, fbeta_score)\n",
    "print confusion_matrix(y_test,y_pred)\n",
    "\n",
    "predictions = model.predict(X_score)\n",
    "file_name = \"{0}.csv\".format(\"extra_trees\")\n",
    "with open(file_name, 'w') as csvfile:\n",
    "    csvfile.write(\"user_id,prediction(adopter)\\n\")\n",
    "    i=0\n",
    "    for prediction in predictions:\n",
    "        csvfile.write(\"%d,%d\\n\" % (user_id[i],prediction))\n",
    "        i += 1"
   ]
  },
  {
   "cell_type": "code",
   "execution_count": null,
   "metadata": {
    "collapsed": false
   },
   "outputs": [],
   "source": [
    "from sklearn.neighbors import KNeighborsClassifier\n",
    "\n",
    "model = KNeighborsClassifier(n_neighbors=7)\n",
    "model.fit(X_train[:,top_features], y_train)\n",
    "y_pred = model.predict(X_test[:,top_features])\n",
    "precision, recall, fbeta_score, support = precision_recall_fscore_support(\n",
    "    y_true=y_test, y_pred=y_pred, labels=1, average='binary'\n",
    ")\n",
    "print(\"Precision:{0} Recall:{1}, FScore:{2}\").format(precision, recall, fbeta_score)\n",
    "print confusion_matrix(y_test,y_pred)\n",
    "\n",
    "predictions = model.predict(X_score)\n",
    "file_name = \"{0}.csv\".format(\"k_neighbors\")\n",
    "with open(file_name, 'w') as csvfile:\n",
    "    csvfile.write(\"user_id,prediction(adopter)\\n\")\n",
    "    i=0\n",
    "    for prediction in predictions:\n",
    "        csvfile.write(\"%s,%d\\n\" % (user_id[i],prediction))\n",
    "        i += 1"
   ]
  },
  {
   "cell_type": "code",
   "execution_count": null,
   "metadata": {
    "collapsed": false
   },
   "outputs": [],
   "source": [
    "from sklearn.discriminant_analysis import QuadraticDiscriminantAnalysis\n",
    "\n",
    "model = QuadraticDiscriminantAnalysis()\n",
    "model.fit(X_train[:,top_features], y_train)\n",
    "y_pred = model.predict(X_test[:,top_features])\n",
    "precision, recall, fbeta_score, support = precision_recall_fscore_support(\n",
    "    y_true=y_test, y_pred=y_pred, labels=1, average='binary'\n",
    ")\n",
    "print(\"Precision:{0} Recall:{1}, FScore:{2}\").format(precision, recall, fbeta_score)\n",
    "print confusion_matrix(y_test,y_pred)\n",
    "\n",
    "predictions = model.predict(X_score)\n",
    "file_name = \"{0}.csv\".format(\"discriminant_analysis\")\n",
    "with open(file_name, 'w') as csvfile:\n",
    "    csvfile.write(\"user_id,prediction(adopter)\\n\")\n",
    "    i=0\n",
    "    for prediction in predictions:\n",
    "        csvfile.write(\"%s,%d\\n\" % (user_id[i],prediction))\n",
    "        i += 1"
   ]
  },
  {
   "cell_type": "code",
   "execution_count": null,
   "metadata": {
    "collapsed": false
   },
   "outputs": [],
   "source": [
    "from sklearn.naive_bayes import GaussianNB\n",
    "\n",
    "model = GaussianNB()\n",
    "model.fit(X_train[:,top_features], y_train)\n",
    "y_pred = model.predict(X_test[:,top_features])\n",
    "precision, recall, fbeta_score, support = precision_recall_fscore_support(\n",
    "    y_true=y_test, y_pred=y_pred, labels=1, average='binary'\n",
    ")\n",
    "print(\"Precision:{0} Recall:{1}, FScore:{2}\").format(precision, recall, fbeta_score)\n",
    "print confusion_matrix(y_test,y_pred)\n",
    "\n",
    "predictions = model.predict(X_score)\n",
    "file_name = \"{0}.csv\".format(\"naive_bayes\")\n",
    "with open(file_name, 'w') as csvfile:\n",
    "    csvfile.write(\"user_id,prediction(adopter)\\n\")\n",
    "    i=0\n",
    "    for prediction in predictions:\n",
    "        csvfile.write(\"%s,%d\\n\" % (user_id[i],prediction))\n",
    "        i += 1"
   ]
  },
  {
   "cell_type": "code",
   "execution_count": null,
   "metadata": {
    "collapsed": false
   },
   "outputs": [],
   "source": [
    "from sklearn.ensemble import AdaBoostClassifier\n",
    "\n",
    "model = AdaBoostClassifier()\n",
    "model.fit(X_train[:,top_features], y_train)\n",
    "y_pred = model.predict(X_test[:,top_features])\n",
    "precision, recall, fbeta_score, support = precision_recall_fscore_support(\n",
    "    y_true=y_test, y_pred=y_pred, labels=1, average='binary'\n",
    ")\n",
    "print(\"Precision:{0} Recall:{1}, FScore:{2}\").format(precision, recall, fbeta_score)\n",
    "print confusion_matrix(y_test,y_pred)\n",
    "\n",
    "predictions = model.predict(X_score)\n",
    "file_name = \"{0}.csv\".format(\"ada_boost\")\n",
    "with open(file_name, 'w') as csvfile:\n",
    "    csvfile.write(\"user_id,prediction(adopter)\\n\")\n",
    "    i=0\n",
    "    for prediction in predictions:\n",
    "        csvfile.write(\"%s,%d\\n\" % (user_id[i],prediction))\n",
    "        i += 1"
   ]
  },
  {
   "cell_type": "code",
   "execution_count": null,
   "metadata": {
    "collapsed": false
   },
   "outputs": [],
   "source": []
  },
  {
   "cell_type": "code",
   "execution_count": null,
   "metadata": {
    "collapsed": true
   },
   "outputs": [],
   "source": []
  }
 ],
 "metadata": {
  "kernelspec": {
   "display_name": "Python 2",
   "language": "python",
   "name": "python2"
  },
  "language_info": {
   "codemirror_mode": {
    "name": "ipython",
    "version": 2
   },
   "file_extension": ".py",
   "mimetype": "text/x-python",
   "name": "python",
   "nbconvert_exporter": "python",
   "pygments_lexer": "ipython2",
   "version": "2.7.13"
  }
 },
 "nbformat": 4,
 "nbformat_minor": 2
}
